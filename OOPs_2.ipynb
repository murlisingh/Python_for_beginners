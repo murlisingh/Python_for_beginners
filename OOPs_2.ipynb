{
 "cells": [
  {
   "cell_type": "markdown",
   "metadata": {},
   "source": [
    "## SUMMARY (OOPs-1)"
   ]
  },
  {
   "cell_type": "code",
   "execution_count": 1,
   "metadata": {
    "ExecuteTime": {
     "end_time": "2018-06-01T02:30:42.761449Z",
     "start_time": "2018-06-01T02:30:42.721053Z"
    }
   },
   "outputs": [
    {
     "data": {
      "text/plain": [
       "'\\n\\nInstance Variable: (Object level Variable)\\nIf the value of the variable varies from object to object, \\nsuch type of variables are instance variables\\n\\nStatic Variable: (Class level Variable)\\nThese variable are same for all object.\\n\\nLocal Variable: (Method level Variable)\\n\\n'"
      ]
     },
     "execution_count": 1,
     "metadata": {},
     "output_type": "execute_result"
    }
   ],
   "source": [
    "# Class\n",
    "# Object\n",
    "# Reference Variable\n",
    "# Constructor\n",
    "# 'self' Variable\n",
    "# Types of Variables: Instance, Static, Local\n",
    "\n",
    "'''\n",
    "\n",
    "Instance Variable: (Object level Variable)\n",
    "The value of the variable varies from object to object, \n",
    "such type of variables are instance variables\n",
    "\n",
    "Static Variable: (Class level Variable)\n",
    "These variable are same for all object.\n",
    "\n",
    "Local Variable: (Method level Variable)\n",
    "\n",
    "'''\n"
   ]
  },
  {
   "cell_type": "code",
   "execution_count": 2,
   "metadata": {
    "ExecuteTime": {
     "end_time": "2018-06-01T06:52:02.355419Z",
     "start_time": "2018-06-01T06:52:02.346394Z"
    },
    "scrolled": true
   },
   "outputs": [
    {
     "name": "stdout",
     "output_type": "stream",
     "text": [
      "Name: abc, RollNo: 1, Marks: 399, College: DIT India\n",
      "{'name': 'abc', 'rno': 1, 'marks': 399}\n",
      "79.80000000000001\n"
     ]
    }
   ],
   "source": [
    "class Student:\n",
    "    college = 'DIT' # Static Variable\n",
    "    def __init__(self, name, rno, marks):\n",
    "        self.name = name # Instance Variable\n",
    "        self.rno = rno # Instance Variable \n",
    "        self.marks = marks # Instance Variable\n",
    "        Student.country = 'India' # Static Variable\n",
    "    \n",
    "    def display(self):\n",
    "        print('Name: {}, RollNo: {}, Marks: {},'.\\\n",
    "              format(self.name, self.rno, self.marks), end=' ')\n",
    "        print('College:', self.college, end=' ')\n",
    "        print(self.country)\n",
    "        \n",
    "        \n",
    "    def getPercentage(self):\n",
    "        total = 500\n",
    "        return (self.marks/total)*100\n",
    "        \n",
    "    def setCollege(self, cname):\n",
    "        self.college = cname\n",
    "        \n",
    "    def getName(self):\n",
    "        return self.name\n",
    "    \n",
    "s1 = Student('abc', 1, 399)\n",
    "\n",
    "s1.display()\n",
    "\n",
    "print(s1.__dict__)\n",
    "\n",
    "print(s1.getPercentage())"
   ]
  },
  {
   "cell_type": "markdown",
   "metadata": {},
   "source": [
    "## Inheritance"
   ]
  },
  {
   "cell_type": "code",
   "execution_count": 3,
   "metadata": {
    "ExecuteTime": {
     "end_time": "2018-06-01T07:01:45.205400Z",
     "start_time": "2018-06-01T07:01:45.198380Z"
    }
   },
   "outputs": [],
   "source": [
    "# Without Inheritance\n",
    "\n",
    "class A:\n",
    "    def m1():\n",
    "        pass\n",
    "    def m2():\n",
    "        pass\n",
    "    \n",
    "class B:\n",
    "    def m1():\n",
    "        pass\n",
    "    def m2():\n",
    "        pass\n",
    "    def m3():\n",
    "        pass\n",
    "    def m4():\n",
    "        pass\n",
    "\n",
    "class C:\n",
    "    def m1():\n",
    "        pass\n",
    "    def m2():\n",
    "        pass\n",
    "    def m3():\n",
    "        pass\n",
    "    def m4():\n",
    "        pass\n",
    "    def m5():\n",
    "        pass\n",
    "    def m6():\n",
    "        pass\n",
    "    \n",
    "# Resolve the error"
   ]
  },
  {
   "cell_type": "code",
   "execution_count": 5,
   "metadata": {
    "ExecuteTime": {
     "end_time": "2018-06-01T07:07:38.596261Z",
     "start_time": "2018-06-01T07:07:38.582727Z"
    }
   },
   "outputs": [],
   "source": [
    "# With Inheritance\n",
    "\n",
    "class A:\n",
    "    def m1(self):\n",
    "        print('Class-A : Method-1')\n",
    "    def m2(self):\n",
    "        print('Class-A : Method-2')\n",
    "    \n",
    "class B(A):\n",
    "    def m3(self):\n",
    "        print('Class-B : Method-3')\n",
    "    def m4(self):\n",
    "        print('Class-B : Method-4')\n",
    "\n",
    "class C(B):\n",
    "    def m5(self):\n",
    "        print('Class-C : Method-5')\n",
    "    def m6(self):\n",
    "        print('Class-C : Method-6')\n",
    "\n",
    "# How many methods does each class contains now?\n"
   ]
  },
  {
   "cell_type": "code",
   "execution_count": 6,
   "metadata": {
    "ExecuteTime": {
     "end_time": "2018-06-01T07:07:44.380486Z",
     "start_time": "2018-06-01T07:07:44.373969Z"
    },
    "scrolled": true
   },
   "outputs": [
    {
     "name": "stdout",
     "output_type": "stream",
     "text": [
      "Class-A : Method-1\n",
      "Class-A : Method-2\n",
      "Class-B : Method-3\n",
      "Class-A : Method-1\n"
     ]
    }
   ],
   "source": [
    "a = A()\n",
    "b = B()\n",
    "c = C()\n",
    "\n",
    "a.m1()\n",
    "a.m2()\n",
    "b.m3()\n",
    "b.m1()"
   ]
  },
  {
   "cell_type": "markdown",
   "metadata": {},
   "source": [
    "### Multilevel Inheritance"
   ]
  },
  {
   "cell_type": "code",
   "execution_count": 12,
   "metadata": {
    "ExecuteTime": {
     "end_time": "2018-05-31T15:29:05.989715Z",
     "start_time": "2018-05-31T15:29:05.986705Z"
    }
   },
   "outputs": [],
   "source": [
    "# What ever we discussed above, was multilevel inheritance."
   ]
  },
  {
   "cell_type": "markdown",
   "metadata": {},
   "source": [
    "### Multiple Inheritance"
   ]
  },
  {
   "cell_type": "code",
   "execution_count": 11,
   "metadata": {
    "ExecuteTime": {
     "end_time": "2018-06-01T07:18:41.563473Z",
     "start_time": "2018-06-01T07:18:41.557457Z"
    }
   },
   "outputs": [],
   "source": [
    "class A:\n",
    "    def m1(self):\n",
    "        print('Class-A : Method-1')\n",
    "    def m2(self):\n",
    "        print('Class-A : Method-2')\n",
    "    \n",
    "class B:\n",
    "    def m3(self):\n",
    "        print('Class-B : Method-3')\n",
    "    def m4(self):\n",
    "        print('Class-B : Method-4')\n",
    "\n",
    "class C(A, B):\n",
    "    def m5(self):\n",
    "        print('Class-C : Method-5')\n",
    "    def m6(self):\n",
    "        print('Class-C : Method-6')\n",
    "        \n",
    "# Try multilevel + multiple"
   ]
  },
  {
   "cell_type": "code",
   "execution_count": 12,
   "metadata": {
    "ExecuteTime": {
     "end_time": "2018-06-01T07:18:42.814340Z",
     "start_time": "2018-06-01T07:18:42.809326Z"
    }
   },
   "outputs": [
    {
     "name": "stdout",
     "output_type": "stream",
     "text": [
      "Class-A : Method-1\n",
      "Class-B : Method-3\n",
      "Class-C : Method-5\n",
      "Class-A : Method-1\n",
      "Class-B : Method-3\n"
     ]
    }
   ],
   "source": [
    "a = A()\n",
    "b = B()\n",
    "c = C()\n",
    "\n",
    "a.m1()\n",
    "b.m3()\n",
    "c.m5()\n",
    "c.m1()\n",
    "c.m3()"
   ]
  },
  {
   "cell_type": "markdown",
   "metadata": {},
   "source": [
    "## Polymorphism"
   ]
  },
  {
   "cell_type": "markdown",
   "metadata": {},
   "source": [
    "### Operator Overloading "
   ]
  },
  {
   "cell_type": "code",
   "execution_count": 15,
   "metadata": {
    "ExecuteTime": {
     "end_time": "2018-06-01T07:22:30.025980Z",
     "start_time": "2018-06-01T07:22:30.014951Z"
    }
   },
   "outputs": [
    {
     "ename": "TypeError",
     "evalue": "unsupported operand type(s) for +: 'A' and 'A'",
     "output_type": "error",
     "traceback": [
      "\u001b[1;31m------------------------------------------------------------------\u001b[0m",
      "\u001b[1;31mTypeError\u001b[0m                        Traceback (most recent call last)",
      "\u001b[1;32m<ipython-input-15-ec40a6e00de6>\u001b[0m in \u001b[0;36m<module>\u001b[1;34m()\u001b[0m\n\u001b[0;32m      8\u001b[0m \u001b[0ma2\u001b[0m \u001b[1;33m=\u001b[0m \u001b[0mA\u001b[0m\u001b[1;33m(\u001b[0m\u001b[1;36m20\u001b[0m\u001b[1;33m)\u001b[0m\u001b[1;33m\u001b[0m\u001b[0m\n\u001b[0;32m      9\u001b[0m \u001b[1;33m\u001b[0m\u001b[0m\n\u001b[1;32m---> 10\u001b[1;33m \u001b[0mprint\u001b[0m\u001b[1;33m(\u001b[0m\u001b[0ma1\u001b[0m\u001b[1;33m+\u001b[0m\u001b[0ma2\u001b[0m\u001b[1;33m)\u001b[0m\u001b[1;33m\u001b[0m\u001b[0m\n\u001b[0m",
      "\u001b[1;31mTypeError\u001b[0m: unsupported operand type(s) for +: 'A' and 'A'"
     ]
    }
   ],
   "source": [
    "# # Operator Overloading\n",
    "\n",
    "class A:\n",
    "    def __init__(self, num):\n",
    "        self.num = num\n",
    "        \n",
    "a1 = A(10)\n",
    "a2 = A(20)\n",
    "\n",
    "print(a1+a2)"
   ]
  },
  {
   "cell_type": "code",
   "execution_count": 16,
   "metadata": {
    "ExecuteTime": {
     "end_time": "2018-06-01T07:26:46.273550Z",
     "start_time": "2018-06-01T07:26:46.268535Z"
    }
   },
   "outputs": [
    {
     "name": "stdout",
     "output_type": "stream",
     "text": [
      "30\n"
     ]
    }
   ],
   "source": [
    "class A:\n",
    "    def __init__(self, num):\n",
    "        self.num = num\n",
    "    \n",
    "    def __add__(self, other):\n",
    "        return self.num + other.num\n",
    "        \n",
    "a1 = A(10)\n",
    "a2 = A(20)\n",
    "\n",
    "print(a1+a2)"
   ]
  },
  {
   "cell_type": "markdown",
   "metadata": {},
   "source": [
    "### Method Overloading"
   ]
  },
  {
   "cell_type": "code",
   "execution_count": 20,
   "metadata": {
    "ExecuteTime": {
     "end_time": "2018-06-01T07:32:41.181981Z",
     "start_time": "2018-06-01T07:32:41.159426Z"
    }
   },
   "outputs": [
    {
     "ename": "TypeError",
     "evalue": "m() missing 1 required positional argument: 'b'",
     "output_type": "error",
     "traceback": [
      "\u001b[1;31m------------------------------------------------------------------\u001b[0m",
      "\u001b[1;31mTypeError\u001b[0m                        Traceback (most recent call last)",
      "\u001b[1;32m<ipython-input-20-536526dda94f>\u001b[0m in \u001b[0;36m<module>\u001b[1;34m()\u001b[0m\n\u001b[0;32m     13\u001b[0m \u001b[1;31m# a.m()\u001b[0m\u001b[1;33m\u001b[0m\u001b[1;33m\u001b[0m\u001b[0m\n\u001b[0;32m     14\u001b[0m \u001b[1;33m\u001b[0m\u001b[0m\n\u001b[1;32m---> 15\u001b[1;33m \u001b[0ma\u001b[0m\u001b[1;33m.\u001b[0m\u001b[0mm\u001b[0m\u001b[1;33m(\u001b[0m\u001b[1;36m10\u001b[0m\u001b[1;33m)\u001b[0m\u001b[1;33m\u001b[0m\u001b[0m\n\u001b[0m\u001b[0;32m     16\u001b[0m \u001b[1;33m\u001b[0m\u001b[0m\n\u001b[0;32m     17\u001b[0m \u001b[1;31m# a.m(10, 20)\u001b[0m\u001b[1;33m\u001b[0m\u001b[1;33m\u001b[0m\u001b[0m\n",
      "\u001b[1;31mTypeError\u001b[0m: m() missing 1 required positional argument: 'b'"
     ]
    }
   ],
   "source": [
    "class A:\n",
    "    def m(self):\n",
    "        print('no-arg method')\n",
    "    \n",
    "    def m(self, a):\n",
    "        print('one arg method')\n",
    "    \n",
    "    def m(self, a, b):\n",
    "        print('two arg method')\n",
    "        \n",
    "a = A()\n",
    "\n",
    "# a.m()\n",
    "\n",
    "a.m(10)\n",
    "\n",
    "# a.m(10, 20)"
   ]
  },
  {
   "cell_type": "markdown",
   "metadata": {},
   "source": [
    "### Constructor Overloading"
   ]
  },
  {
   "cell_type": "code",
   "execution_count": 22,
   "metadata": {
    "ExecuteTime": {
     "end_time": "2018-06-01T07:35:44.331747Z",
     "start_time": "2018-06-01T07:35:44.319213Z"
    }
   },
   "outputs": [
    {
     "name": "stdout",
     "output_type": "stream",
     "text": [
      "default constructor\n"
     ]
    },
    {
     "ename": "TypeError",
     "evalue": "__init__() takes 1 positional argument but 3 were given",
     "output_type": "error",
     "traceback": [
      "\u001b[1;31m------------------------------------------------------------------\u001b[0m",
      "\u001b[1;31mTypeError\u001b[0m                        Traceback (most recent call last)",
      "\u001b[1;32m<ipython-input-22-1c08de2255cc>\u001b[0m in \u001b[0;36m<module>\u001b[1;34m()\u001b[0m\n\u001b[0;32m      8\u001b[0m \u001b[1;33m\u001b[0m\u001b[0m\n\u001b[0;32m      9\u001b[0m \u001b[0mm1\u001b[0m \u001b[1;33m=\u001b[0m \u001b[0mMyClass\u001b[0m\u001b[1;33m(\u001b[0m\u001b[1;33m)\u001b[0m\u001b[1;33m\u001b[0m\u001b[0m\n\u001b[1;32m---> 10\u001b[1;33m \u001b[0mm2\u001b[0m \u001b[1;33m=\u001b[0m \u001b[0mMyClass\u001b[0m\u001b[1;33m(\u001b[0m\u001b[1;36m1\u001b[0m\u001b[1;33m,\u001b[0m \u001b[1;36m2\u001b[0m\u001b[1;33m)\u001b[0m\u001b[1;33m\u001b[0m\u001b[0m\n\u001b[0m",
      "\u001b[1;31mTypeError\u001b[0m: __init__() takes 1 positional argument but 3 were given"
     ]
    }
   ],
   "source": [
    "class MyClass:\n",
    "\n",
    "    def __init__(self, a, b):\n",
    "        print('parameterized')\n",
    "        \n",
    "    def __init__(self):\n",
    "        print('default constructor')\n",
    "        \n",
    "m1 = MyClass()\n",
    "m2 = MyClass(1, 2)"
   ]
  },
  {
   "cell_type": "markdown",
   "metadata": {},
   "source": [
    "### Method Overriding"
   ]
  },
  {
   "cell_type": "code",
   "execution_count": 27,
   "metadata": {
    "ExecuteTime": {
     "end_time": "2018-06-01T07:58:10.133600Z",
     "start_time": "2018-06-01T07:58:10.125576Z"
    }
   },
   "outputs": [
    {
     "name": "stdout",
     "output_type": "stream",
     "text": [
      "Class-A : Method-1\n",
      "Class-B : Method-1\n"
     ]
    }
   ],
   "source": [
    "class A:\n",
    "    def m1(self):\n",
    "        print('Class-A : Method-1')\n",
    "    def m2(self):\n",
    "        print('Class-A : Method-2')\n",
    "    \n",
    "class B(A):\n",
    "    def m1(self):\n",
    "        super().m1()\n",
    "        print('Class-B : Method-1')\n",
    "        \n",
    "b = B()\n",
    "\n",
    "b.m1()"
   ]
  },
  {
   "cell_type": "markdown",
   "metadata": {},
   "source": [
    "### Constructor Overriding"
   ]
  },
  {
   "cell_type": "code",
   "execution_count": 26,
   "metadata": {
    "ExecuteTime": {
     "end_time": "2018-06-01T07:56:32.993453Z",
     "start_time": "2018-06-01T07:56:32.988439Z"
    }
   },
   "outputs": [
    {
     "name": "stdout",
     "output_type": "stream",
     "text": [
      "Parent Constructor\n",
      "Child Constructor\n"
     ]
    }
   ],
   "source": [
    "class A:\n",
    "    def __init__(self):\n",
    "        print('Parent Constructor')\n",
    "        \n",
    "class B(A):\n",
    "    def __init__(self):\n",
    "        super().__init__()\n",
    "        print('Child Constructor')\n",
    "        \n",
    "b = B()"
   ]
  },
  {
   "cell_type": "markdown",
   "metadata": {},
   "source": [
    "## Abstraction"
   ]
  },
  {
   "cell_type": "code",
   "execution_count": 36,
   "metadata": {
    "ExecuteTime": {
     "end_time": "2018-05-31T17:28:10.195940Z",
     "start_time": "2018-05-31T17:28:10.183162Z"
    }
   },
   "outputs": [
    {
     "data": {
      "text/plain": [
       "'\\nProcess of highlighting the set of services & hiding the implementation\\nis called ABSTRACTION.\\n'"
      ]
     },
     "execution_count": 36,
     "metadata": {},
     "output_type": "execute_result"
    }
   ],
   "source": [
    "# Abstraction means HIDING.\n",
    "'''\n",
    "Process of highlighting the set of services & hiding the implementation\n",
    "is called ABSTRACTION.\n",
    "'''"
   ]
  },
  {
   "cell_type": "markdown",
   "metadata": {},
   "source": [
    "## Encapsulation"
   ]
  },
  {
   "cell_type": "markdown",
   "metadata": {},
   "source": [
    "### Private Metods"
   ]
  },
  {
   "cell_type": "code",
   "execution_count": 41,
   "metadata": {
    "ExecuteTime": {
     "end_time": "2018-05-31T17:41:40.583150Z",
     "start_time": "2018-05-31T17:41:40.567487Z"
    }
   },
   "outputs": [
    {
     "name": "stdout",
     "output_type": "stream",
     "text": [
      "Updating Software....\n",
      "Driving\n"
     ]
    }
   ],
   "source": [
    "class Car:\n",
    "    def __init__(self):\n",
    "        self.__updateSoftware()\n",
    "        \n",
    "    def drive(self):\n",
    "        print('Driving')\n",
    "        \n",
    "    def __updateSoftware(self):\n",
    "        print('Updating Software....')\n",
    "        \n",
    "myCar = Car()\n",
    "myCar.drive()"
   ]
  },
  {
   "cell_type": "markdown",
   "metadata": {},
   "source": [
    "### Private Variables"
   ]
  },
  {
   "cell_type": "code",
   "execution_count": 46,
   "metadata": {
    "ExecuteTime": {
     "end_time": "2018-05-31T17:46:23.510540Z",
     "start_time": "2018-05-31T17:46:23.495142Z"
    }
   },
   "outputs": [
    {
     "name": "stdout",
     "output_type": "stream",
     "text": [
      "Driving....maxSpeed is 200\n",
      "Driving....maxSpeed is 200\n"
     ]
    }
   ],
   "source": [
    "class Car:\n",
    "    __maxSpeed = 0\n",
    "    __name = ''\n",
    "    \n",
    "    def __init__(self):\n",
    "        self.__maxSpeed = 200\n",
    "        self.__name = 'Super Car'\n",
    "        \n",
    "    def drive(self):\n",
    "        print('Driving....maxSpeed is', self.__maxSpeed)\n",
    "        \n",
    "myCar = Car()\n",
    "myCar.drive()\n",
    "\n",
    "myCar.__maxSpeed = 10\n",
    "myCar.drive()"
   ]
  },
  {
   "cell_type": "code",
   "execution_count": 1,
   "metadata": {
    "ExecuteTime": {
     "end_time": "2018-06-01T08:17:25.380641Z",
     "start_time": "2018-06-01T08:17:25.260823Z"
    }
   },
   "outputs": [
    {
     "name": "stdout",
     "output_type": "stream",
     "text": [
      "Driving....maxSpeed is 200\n"
     ]
    },
    {
     "ename": "AttributeError",
     "evalue": "'Car' object has no attribute '__maxSpeed'",
     "output_type": "error",
     "traceback": [
      "\u001b[1;31m------------------------------------------------------------------\u001b[0m",
      "\u001b[1;31mAttributeError\u001b[0m                   Traceback (most recent call last)",
      "\u001b[1;32m<ipython-input-1-ee09c3276059>\u001b[0m in \u001b[0;36m<module>\u001b[1;34m()\u001b[0m\n\u001b[0;32m     13\u001b[0m \u001b[0mmyCar\u001b[0m\u001b[1;33m.\u001b[0m\u001b[0mdrive\u001b[0m\u001b[1;33m(\u001b[0m\u001b[1;33m)\u001b[0m\u001b[1;33m\u001b[0m\u001b[0m\n\u001b[0;32m     14\u001b[0m \u001b[1;33m\u001b[0m\u001b[0m\n\u001b[1;32m---> 15\u001b[1;33m \u001b[0mprint\u001b[0m\u001b[1;33m(\u001b[0m\u001b[0mmyCar\u001b[0m\u001b[1;33m.\u001b[0m\u001b[0m__maxSpeed\u001b[0m\u001b[1;33m)\u001b[0m\u001b[1;33m\u001b[0m\u001b[0m\n\u001b[0m",
      "\u001b[1;31mAttributeError\u001b[0m: 'Car' object has no attribute '__maxSpeed'"
     ]
    }
   ],
   "source": [
    "class Car:\n",
    "    __maxSpeed = 0\n",
    "    __name = ''\n",
    "    \n",
    "    def __init__(self):\n",
    "        self.__maxSpeed = 200\n",
    "        self.__name = 'Super Car'\n",
    "        \n",
    "    def drive(self):\n",
    "        print('Driving....maxSpeed is', self.__maxSpeed)\n",
    "        \n",
    "myCar = Car()\n",
    "myCar.drive()\n",
    "\n",
    "print(myCar.__maxSpeed)"
   ]
  },
  {
   "cell_type": "markdown",
   "metadata": {},
   "source": [
    "## Assignments"
   ]
  },
  {
   "cell_type": "markdown",
   "metadata": {},
   "source": [
    "Q-1 Create a class Animal as a base class and define method animal_attribute. Create another class Tiger which is inheriting Animal and access the base class method.\n",
    "\n",
    "Q-3 Create a class Cop. Initialize its name, age , work experience. Define methods to  display and update the details. Create another class Mission which extends the class Cop.\n",
    "\n",
    "  Define method add_mission _details. Select an object of Cop and access methods of base class to get information for a particular cop and make it available for mission. \n",
    "\n",
    "\n",
    "Q-4 Create a class Shape.Initialize it with length and breadth Create the method Area. Create class rectangle and square which inherits shape and access the method Area."
   ]
  }
 ],
 "metadata": {
  "kernelspec": {
   "display_name": "Python 3",
   "language": "python",
   "name": "python3"
  },
  "language_info": {
   "codemirror_mode": {
    "name": "ipython",
    "version": 3
   },
   "file_extension": ".py",
   "mimetype": "text/x-python",
   "name": "python",
   "nbconvert_exporter": "python",
   "pygments_lexer": "ipython3",
   "version": "3.6.5"
  },
  "toc": {
   "nav_menu": {},
   "number_sections": true,
   "sideBar": true,
   "skip_h1_title": false,
   "title_cell": "Table of Contents",
   "title_sidebar": "Contents",
   "toc_cell": false,
   "toc_position": {},
   "toc_section_display": true,
   "toc_window_display": false
  },
  "varInspector": {
   "cols": {
    "lenName": 16,
    "lenType": 16,
    "lenVar": 40
   },
   "kernels_config": {
    "python": {
     "delete_cmd_postfix": "",
     "delete_cmd_prefix": "del ",
     "library": "var_list.py",
     "varRefreshCmd": "print(var_dic_list())"
    },
    "r": {
     "delete_cmd_postfix": ") ",
     "delete_cmd_prefix": "rm(",
     "library": "var_list.r",
     "varRefreshCmd": "cat(var_dic_list()) "
    }
   },
   "types_to_exclude": [
    "module",
    "function",
    "builtin_function_or_method",
    "instance",
    "_Feature"
   ],
   "window_display": false
  }
 },
 "nbformat": 4,
 "nbformat_minor": 2
}
