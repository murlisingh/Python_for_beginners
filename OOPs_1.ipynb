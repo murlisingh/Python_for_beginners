{
 "cells": [
  {
   "cell_type": "markdown",
   "metadata": {},
   "source": [
    "## Object Oriented Programming"
   ]
  },
  {
   "cell_type": "markdown",
   "metadata": {},
   "source": [
    "### Class Syntax"
   ]
  },
  {
   "cell_type": "code",
   "execution_count": 1,
   "metadata": {
    "ExecuteTime": {
     "end_time": "2018-05-31T06:29:51.398848Z",
     "start_time": "2018-05-31T06:29:51.391831Z"
    }
   },
   "outputs": [
    {
     "name": "stdout",
     "output_type": "stream",
     "text": [
      "This is my First Class.\n",
      "Help on class MyFirstClass in module __main__:\n",
      "\n",
      "class MyFirstClass(builtins.object)\n",
      " |  This is my First Class.\n",
      " |  \n",
      " |  Data descriptors defined here:\n",
      " |  \n",
      " |  __dict__\n",
      " |      dictionary for instance variables (if defined)\n",
      " |  \n",
      " |  __weakref__\n",
      " |      list of weak references to the object (if defined)\n",
      "\n"
     ]
    }
   ],
   "source": [
    "class MyFirstClass:\n",
    "    '''This is my First Class.'''\n",
    "    pass\n",
    "    \n",
    "print(MyFirstClass.__doc__)\n",
    "help(MyFirstClass)"
   ]
  },
  {
   "cell_type": "markdown",
   "metadata": {},
   "source": [
    "### Object Creation"
   ]
  },
  {
   "cell_type": "code",
   "execution_count": 3,
   "metadata": {
    "ExecuteTime": {
     "end_time": "2018-05-31T00:44:40.430601Z",
     "start_time": "2018-05-31T00:44:40.426591Z"
    }
   },
   "outputs": [],
   "source": [
    "my_ref_var = MyFirstClass()"
   ]
  },
  {
   "cell_type": "markdown",
   "metadata": {},
   "source": [
    "### Accessing Methods of Class"
   ]
  },
  {
   "cell_type": "code",
   "execution_count": 5,
   "metadata": {
    "ExecuteTime": {
     "end_time": "2018-05-31T06:59:54.975039Z",
     "start_time": "2018-05-31T06:59:54.968021Z"
    }
   },
   "outputs": [
    {
     "name": "stdout",
     "output_type": "stream",
     "text": [
      "Hello World\n"
     ]
    }
   ],
   "source": [
    "class HelloWorld:\n",
    "    '''This is my Hello World class'''\n",
    "    \n",
    "    def display(self):\n",
    "        print('Hello World')\n",
    "        \n",
    "h = HelloWorld()\n",
    "\n",
    "h.display()"
   ]
  },
  {
   "cell_type": "markdown",
   "metadata": {},
   "source": [
    "### Constructor"
   ]
  },
  {
   "cell_type": "code",
   "execution_count": 26,
   "metadata": {
    "ExecuteTime": {
     "end_time": "2018-05-31T01:42:36.794529Z",
     "start_time": "2018-05-31T01:42:36.789527Z"
    }
   },
   "outputs": [
    {
     "name": "stdout",
     "output_type": "stream",
     "text": [
      "abc 1 90\n"
     ]
    }
   ],
   "source": [
    "class Student:\n",
    "    def __init__(self):\n",
    "        self.name = 'abc'\n",
    "        self.rno = 1\n",
    "        self.marks = 90\n",
    "    \n",
    "s1 = Student()\n",
    "\n",
    "print(s1.name, s1.rno, s1.marks)"
   ]
  },
  {
   "cell_type": "code",
   "execution_count": 8,
   "metadata": {
    "ExecuteTime": {
     "end_time": "2018-05-31T01:04:42.032829Z",
     "start_time": "2018-05-31T01:04:42.028818Z"
    }
   },
   "outputs": [
    {
     "name": "stdout",
     "output_type": "stream",
     "text": [
      "<__main__.Student object at 0x087E0E50>\n"
     ]
    }
   ],
   "source": [
    "print(s1)"
   ]
  },
  {
   "cell_type": "code",
   "execution_count": 6,
   "metadata": {
    "ExecuteTime": {
     "end_time": "2018-05-31T07:12:30.112227Z",
     "start_time": "2018-05-31T07:12:30.105709Z"
    }
   },
   "outputs": [
    {
     "name": "stdout",
     "output_type": "stream",
     "text": [
      "Constructor is executed\n",
      "Constructor is executed\n",
      "Constructor is executed\n",
      "Function is executed\n",
      "Function is executed\n"
     ]
    }
   ],
   "source": [
    "class Test:\n",
    "    def __init__(self):\n",
    "        print('Constructor is executed')\n",
    "        \n",
    "    def fun(self):\n",
    "        print('Function is executed')\n",
    "        \n",
    "t1 = Test()\n",
    "t2 = Test()\n",
    "t3 = Test()\n",
    "t1.fun()\n",
    "t2.fun()\n",
    "#     def display(self):\n",
    "#         print('Name: {}, RollNo: {}, Marks: {}'.format(name, rno, marks))\n",
    "    \n",
    "# t3.fun()"
   ]
  },
  {
   "cell_type": "markdown",
   "metadata": {},
   "source": [
    "### Constructor With Multiple Parameters"
   ]
  },
  {
   "cell_type": "code",
   "execution_count": 11,
   "metadata": {
    "ExecuteTime": {
     "end_time": "2018-05-31T07:33:46.776383Z",
     "start_time": "2018-05-31T07:33:46.748825Z"
    }
   },
   "outputs": [
    {
     "name": "stdout",
     "output_type": "stream",
     "text": [
      "Name: abc, RollNo: 1, Marks: 90\n",
      "Name: xyz, RollNo: 2, Marks: 80\n"
     ]
    },
    {
     "data": {
      "text/plain": [
       "\"INSTANCE variable should be used using 'self', \\nwhether inside constructor or method\\n\""
      ]
     },
     "execution_count": 11,
     "metadata": {},
     "output_type": "execute_result"
    }
   ],
   "source": [
    "class Student:\n",
    "    def __init__(self, name, rno, marks):\n",
    "        self.name = name\n",
    "        self.rno = rno\n",
    "        self.marks = marks\n",
    "    def display(self):\n",
    "        print('Name: {}, RollNo: {}, Marks: {}'.\\\n",
    "              format(self.name, self.rno, self.marks))\n",
    "\n",
    "    \n",
    "s1 = Student('abc', 1, 90)\n",
    "\n",
    "s1.display()\n",
    "\n",
    "s2 = Student('xyz', 2, 80)\n",
    "\n",
    "s2.display()\n",
    "\n",
    "'''INSTANCE variable should be used using 'self', \n",
    "whether inside constructor or method\n",
    "'''"
   ]
  },
  {
   "cell_type": "markdown",
   "metadata": {},
   "source": [
    "## Variables "
   ]
  },
  {
   "cell_type": "markdown",
   "metadata": {},
   "source": [
    "### Instance Variable"
   ]
  },
  {
   "cell_type": "code",
   "execution_count": 13,
   "metadata": {
    "ExecuteTime": {
     "end_time": "2018-05-31T07:39:52.774447Z",
     "start_time": "2018-05-31T07:39:52.767429Z"
    }
   },
   "outputs": [
    {
     "name": "stdout",
     "output_type": "stream",
     "text": [
      "{'name': 'abc', 'rno': 1, 'marks': 90}\n",
      "abc\n",
      "Name: abc, RollNo: 1, Marks: 90,\n",
      "Name: xyz, RollNo: 2, Marks: 80,\n"
     ]
    }
   ],
   "source": [
    "class Student:\n",
    "    def __init__(self, name, rno, marks):\n",
    "        self.name = name\n",
    "        self.rno = rno\n",
    "        self.marks = marks\n",
    "    \n",
    "    def display(self):\n",
    "        print('Name: {}, RollNo: {}, Marks: {},'.\\\n",
    "              format(self.name, self.rno, self.marks))\n",
    "      \n",
    "s1 = Student('abc', 1, 90)\n",
    "\n",
    "print(s1.__dict__)\n",
    "\n",
    "print(s1.name)\n",
    "\n",
    "s1.display()\n",
    "\n",
    "s2 = Student('xyz', 2, 80)\n",
    "\n",
    "s2.display()"
   ]
  },
  {
   "cell_type": "markdown",
   "metadata": {},
   "source": [
    "### Static Variable"
   ]
  },
  {
   "cell_type": "code",
   "execution_count": 15,
   "metadata": {
    "ExecuteTime": {
     "end_time": "2018-05-31T07:54:33.058179Z",
     "start_time": "2018-05-31T07:54:33.051659Z"
    }
   },
   "outputs": [
    {
     "name": "stdout",
     "output_type": "stream",
     "text": [
      "Name: abc, RollNo: 1, Marks: 90, College: DIT\n",
      "Name: xyz, RollNo: 2, Marks: 80, College: DIT\n"
     ]
    }
   ],
   "source": [
    "class Student:\n",
    "    college = 'DIT'\n",
    "    def __init__(self, name, rno, marks):\n",
    "        self.name = name\n",
    "        self.rno = rno\n",
    "        self.marks = marks\n",
    "    \n",
    "    def display(self):\n",
    "        print('Name: {}, RollNo: {}, Marks: {},'.\\\n",
    "              format(self.name, self.rno, self.marks), end=' ')\n",
    "        print('College:', self.college)\n",
    "      \n",
    "s1 = Student('abc', 1, 90)\n",
    "\n",
    "s1.display()\n",
    "\n",
    "s2 = Student('xyz', 2, 80)\n",
    "\n",
    "s2.display()"
   ]
  },
  {
   "cell_type": "code",
   "execution_count": 16,
   "metadata": {
    "ExecuteTime": {
     "end_time": "2018-05-31T07:56:03.118244Z",
     "start_time": "2018-05-31T07:56:03.115236Z"
    }
   },
   "outputs": [],
   "source": [
    "# # Lets try to change the STATIC variable using s1\n",
    "\n",
    "s1.college = 'UIT'\n",
    "\n",
    "s1.display()\n",
    "\n",
    "s2.display()"
   ]
  },
  {
   "cell_type": "markdown",
   "metadata": {},
   "source": [
    "### Local Variable"
   ]
  },
  {
   "cell_type": "code",
   "execution_count": 18,
   "metadata": {
    "ExecuteTime": {
     "end_time": "2018-05-31T08:01:15.905176Z",
     "start_time": "2018-05-31T08:01:15.900162Z"
    }
   },
   "outputs": [
    {
     "name": "stdout",
     "output_type": "stream",
     "text": [
      "10\n",
      "20\n"
     ]
    }
   ],
   "source": [
    "class Test:\n",
    "    def m1(self):\n",
    "        x = 10\n",
    "        print(x)\n",
    "    def m2(self):\n",
    "        y = 20\n",
    "        print(y)\n",
    "        \n",
    "t = Test()\n",
    "t.m1()\n",
    "t.m2()"
   ]
  },
  {
   "cell_type": "markdown",
   "metadata": {},
   "source": [
    "## Setters & Getters"
   ]
  },
  {
   "cell_type": "code",
   "execution_count": 19,
   "metadata": {
    "ExecuteTime": {
     "end_time": "2018-05-31T08:07:08.913643Z",
     "start_time": "2018-05-31T08:07:08.898091Z"
    }
   },
   "outputs": [
    {
     "name": "stdout",
     "output_type": "stream",
     "text": [
      "Name: abc, RollNo: 1, Marks: 90, College: UIT\n",
      "Name: xyz, RollNo: 2, Marks: 80, College: DIT\n"
     ]
    }
   ],
   "source": [
    "class Student:\n",
    "    college = 'DIT'\n",
    "    def __init__(self, name, rno, marks):\n",
    "        self.name = name\n",
    "        self.rno = rno\n",
    "        self.marks = marks\n",
    "    \n",
    "    def display(self):\n",
    "        print('Name: {}, RollNo: {}, Marks: {},'.format(self.name, self.rno, self.marks), end=' ')\n",
    "        print('College:', self.college)\n",
    "        \n",
    "    def setCollege(self, cname):\n",
    "        self.college = cname\n",
    "        \n",
    "    def getName(self):\n",
    "        return self.name\n",
    "      \n",
    "s1 = Student('abc', 1, 90)\n",
    "\n",
    "s1.setCollege('UIT')\n",
    "\n",
    "s1.display()\n",
    "\n",
    "s2 = Student('xyz', 2, 80)\n",
    "\n",
    "s2.display()"
   ]
  },
  {
   "cell_type": "code",
   "execution_count": 20,
   "metadata": {
    "ExecuteTime": {
     "end_time": "2018-05-31T08:08:19.518050Z",
     "start_time": "2018-05-31T08:08:19.513040Z"
    }
   },
   "outputs": [
    {
     "data": {
      "text/plain": [
       "'xyz'"
      ]
     },
     "execution_count": 20,
     "metadata": {},
     "output_type": "execute_result"
    }
   ],
   "source": [
    "s2.getName()"
   ]
  },
  {
   "cell_type": "markdown",
   "metadata": {},
   "source": [
    "## Assignment"
   ]
  },
  {
   "cell_type": "markdown",
   "metadata": {},
   "source": [
    "Q.1- Create a circle class and initialize it with radius. Make two methods getArea and getCircumference inside this class.\n",
    "\n",
    "Q.2- Create a Student class and initialize it with name and roll number. Make methods to :\n",
    "1. Display - It should display all informations of the student.\n",
    "2. setAge - It should assign age to student \n",
    "3. setMarks - It should assign marks to the student.\n",
    "\n",
    "Q.3- Create a Temprature class. Make two methods :\n",
    "1. convertFahrenheit - It will take celsius and will print it into Fahrenheit.\n",
    "2. convertCelsius - It will take Fahrenheit and will convert it into Celsius.\n",
    "\n",
    "Q.4- Create a class MovieDetails and initialize it with artistname,Year of release and ratings .\n",
    "Make methods to\n",
    "1. Display-Display the details.\n",
    "2. Add- Add the movie details.\n",
    "\n",
    "Q.5- Create a class Expenditure and initialize it with salary,savings, category , total expenditure.Make the following methods.\n",
    "1. Add expenditure according to category .\n",
    "2. Calculate total expenditure.\n",
    "3. Calculate per day and monthly expenditure.\n",
    "\n"
   ]
  }
 ],
 "metadata": {
  "kernelspec": {
   "display_name": "Python 3",
   "language": "python",
   "name": "python3"
  },
  "language_info": {
   "codemirror_mode": {
    "name": "ipython",
    "version": 3
   },
   "file_extension": ".py",
   "mimetype": "text/x-python",
   "name": "python",
   "nbconvert_exporter": "python",
   "pygments_lexer": "ipython3",
   "version": "3.6.5"
  },
  "toc": {
   "nav_menu": {},
   "number_sections": true,
   "sideBar": true,
   "skip_h1_title": false,
   "title_cell": "Table of Contents",
   "title_sidebar": "Contents",
   "toc_cell": false,
   "toc_position": {},
   "toc_section_display": true,
   "toc_window_display": false
  },
  "varInspector": {
   "cols": {
    "lenName": 16,
    "lenType": 16,
    "lenVar": 40
   },
   "kernels_config": {
    "python": {
     "delete_cmd_postfix": "",
     "delete_cmd_prefix": "del ",
     "library": "var_list.py",
     "varRefreshCmd": "print(var_dic_list())"
    },
    "r": {
     "delete_cmd_postfix": ") ",
     "delete_cmd_prefix": "rm(",
     "library": "var_list.r",
     "varRefreshCmd": "cat(var_dic_list()) "
    }
   },
   "types_to_exclude": [
    "module",
    "function",
    "builtin_function_or_method",
    "instance",
    "_Feature"
   ],
   "window_display": false
  }
 },
 "nbformat": 4,
 "nbformat_minor": 2
}
