{
 "cells": [
  {
   "cell_type": "markdown",
   "metadata": {},
   "source": [
    "## Numeric Data Type"
   ]
  },
  {
   "cell_type": "code",
   "execution_count": 2,
   "metadata": {
    "ExecuteTime": {
     "end_time": "2018-05-23T07:02:10.569790Z",
     "start_time": "2018-05-23T07:02:10.565176Z"
    }
   },
   "outputs": [
    {
     "name": "stdout",
     "output_type": "stream",
     "text": [
      "<class 'int'>\n",
      "<class 'float'>\n",
      "True\n"
     ]
    }
   ],
   "source": [
    "a = 5\n",
    "\n",
    "print(type(a))\n",
    "\n",
    "print(type(5.0))\n",
    "\n",
    "print(isinstance(a, int))\n"
   ]
  },
  {
   "cell_type": "code",
   "execution_count": 3,
   "metadata": {
    "ExecuteTime": {
     "end_time": "2018-05-23T07:03:17.763527Z",
     "start_time": "2018-05-23T07:03:17.759015Z"
    }
   },
   "outputs": [
    {
     "name": "stdout",
     "output_type": "stream",
     "text": [
      "<class 'float'>\n"
     ]
    }
   ],
   "source": [
    "b = 10.34\n",
    "print(type(b))"
   ]
  },
  {
   "cell_type": "code",
   "execution_count": 6,
   "metadata": {
    "ExecuteTime": {
     "end_time": "2018-05-23T07:06:33.991483Z",
     "start_time": "2018-05-23T07:06:33.987472Z"
    }
   },
   "outputs": [
    {
     "name": "stdout",
     "output_type": "stream",
     "text": [
      "1.2e-37\n"
     ]
    }
   ],
   "source": [
    "f = 1.2e-37\n",
    "# f= 1.23e34 and f= 1.23e+34 are equivalent\n",
    "print(f)"
   ]
  },
  {
   "cell_type": "code",
   "execution_count": 11,
   "metadata": {
    "ExecuteTime": {
     "end_time": "2018-05-23T07:10:41.100468Z",
     "start_time": "2018-05-23T07:10:41.095947Z"
    }
   },
   "outputs": [
    {
     "name": "stdout",
     "output_type": "stream",
     "text": [
      "<class 'complex'>\n",
      "(15+20j)\n",
      "True\n"
     ]
    }
   ],
   "source": [
    "c = 10+20J\n",
    "\n",
    "print(type(c))\n",
    "\n",
    "print(c + 5)\n",
    "\n",
    "print(isinstance(c, complex))"
   ]
  },
  {
   "cell_type": "code",
   "execution_count": 2,
   "metadata": {
    "ExecuteTime": {
     "end_time": "2018-05-23T07:23:11.656494Z",
     "start_time": "2018-05-23T07:23:08.834838Z"
    }
   },
   "outputs": [
    {
     "name": "stdout",
     "output_type": "stream",
     "text": [
      "Enter 1st number: 12\n",
      "Enter 2nd number: 12\n",
      "24\n"
     ]
    }
   ],
   "source": [
    "a = input('Enter 1st number: ')\n",
    "\n",
    "b = input('Enter 2nd number: ')\n",
    "\n",
    "a1 = int(a)\n",
    "\n",
    "b1 = int(b)\n",
    "\n",
    "print(a1+b1)"
   ]
  },
  {
   "cell_type": "markdown",
   "metadata": {},
   "source": [
    "## Strings"
   ]
  },
  {
   "cell_type": "code",
   "execution_count": 3,
   "metadata": {
    "ExecuteTime": {
     "end_time": "2018-05-23T07:42:58.277777Z",
     "start_time": "2018-05-23T07:42:58.272262Z"
    }
   },
   "outputs": [
    {
     "name": "stdout",
     "output_type": "stream",
     "text": [
      "a\n",
      "<class 'str'>\n",
      "<class 'str'>\n",
      "22\n"
     ]
    }
   ],
   "source": [
    "c = 'a'\n",
    "\n",
    "print(c)\n",
    "\n",
    "print(type(c))\n",
    "\n",
    "s = 'We are leaning Python!'\n",
    "\n",
    "print(type(s))\n",
    "\n",
    "print(len(s))\n",
    "\n"
   ]
  },
  {
   "cell_type": "code",
   "execution_count": 7,
   "metadata": {
    "ExecuteTime": {
     "end_time": "2018-05-23T07:46:09.270947Z",
     "start_time": "2018-05-23T07:46:09.265433Z"
    }
   },
   "outputs": [
    {
     "name": "stdout",
     "output_type": "stream",
     "text": [
      "i\n",
      "hi there\n",
      "hi10\n"
     ]
    }
   ],
   "source": [
    "s = 'hi'\n",
    "\n",
    "print(s[1])\n",
    "\n",
    "# print(s[3])\n",
    "\n",
    "# print(s[1.0])\n",
    "\n",
    "print(s+' there')\n",
    "\n",
    "print(s + '10')\n",
    "# try print(s + 10) it will throw an error"
   ]
  },
  {
   "cell_type": "code",
   "execution_count": 2,
   "metadata": {
    "ExecuteTime": {
     "end_time": "2018-05-23T14:27:13.259069Z",
     "start_time": "2018-05-23T14:27:13.254056Z"
    }
   },
   "outputs": [
    {
     "name": "stdout",
     "output_type": "stream",
     "text": [
      "<class 'list'>\n",
      "['', 'We', 'are', 'leaning', 'Python!', '']\n",
      " We are leaning Python! \n"
     ]
    }
   ],
   "source": [
    "# s = ' We are leaning Python! '\n",
    "\n",
    "# print(s.upper())\n",
    "\n",
    "# print(s.lower())\n",
    "\n",
    "# print(s.strip())\n",
    "\n",
    "# # isalpha(), isdigit(), isspace()\n",
    "# # startswith('abc'), endswith('abc')\n",
    "# # find('abc') returns first index, otherwise -1\n",
    "# # replace('old', 'new')\n",
    "# # split(' ') return list\n",
    "# # ' '.join(list) return string\n",
    "\n",
    "\n",
    "s = ' We are leaning Python! '\n",
    "split_string = s.split(' ')\n",
    "print(type(split_string))\n",
    "print(split_string)\n",
    "print(' '.join(split_string))"
   ]
  },
  {
   "cell_type": "code",
   "execution_count": 4,
   "metadata": {
    "ExecuteTime": {
     "end_time": "2018-05-23T14:28:11.464273Z",
     "start_time": "2018-05-23T14:28:11.460263Z"
    }
   },
   "outputs": [
    {
     "name": "stdout",
     "output_type": "stream",
     "text": [
      "ogra\n",
      "programiz\n",
      "progr\n",
      "amiz\n"
     ]
    }
   ],
   "source": [
    "s = 'programiz'\n",
    "print(s[-7:-3])\n",
    "print(s[:])\n",
    "print(s[:5])\n",
    "print(s[5:])"
   ]
  },
  {
   "cell_type": "markdown",
   "metadata": {},
   "source": [
    "## Lists"
   ]
  },
  {
   "cell_type": "code",
   "execution_count": 6,
   "metadata": {
    "ExecuteTime": {
     "end_time": "2018-05-23T14:29:41.062353Z",
     "start_time": "2018-05-23T14:29:41.058106Z"
    }
   },
   "outputs": [
    {
     "name": "stdout",
     "output_type": "stream",
     "text": [
      "['shark', 'cuttlefish', 'squid', 'mantisshrimp', 'anemone']\n",
      "<class 'list'>\n",
      "5\n"
     ]
    }
   ],
   "source": [
    "sea_creatures = ['shark', 'cuttlefish', 'squid', 'mantisshrimp', 'anemone']\n",
    "\n",
    "print(sea_creatures)\n",
    "\n",
    "print(type(sea_creatures))\n",
    "\n",
    "print(len(sea_creatures))"
   ]
  },
  {
   "cell_type": "code",
   "execution_count": 7,
   "metadata": {
    "ExecuteTime": {
     "end_time": "2018-05-23T14:29:43.585890Z",
     "start_time": "2018-05-23T14:29:43.579874Z"
    }
   },
   "outputs": [
    {
     "name": "stdout",
     "output_type": "stream",
     "text": [
      "shark\n",
      "cuttlefish\n",
      "squid\n",
      "mantisshrimp\n",
      "anemone\n",
      "********************\n",
      "anemone\n",
      "mantisshrimp\n",
      "squid\n",
      "cuttlefish\n",
      "shark\n"
     ]
    }
   ],
   "source": [
    "print(sea_creatures[0])\n",
    "\n",
    "print(sea_creatures[1])\n",
    "\n",
    "print(sea_creatures[2])\n",
    "\n",
    "print(sea_creatures[3])\n",
    "\n",
    "print(sea_creatures[4])\n",
    "\n",
    "# try print(sea_creatures[5]) it will throw out of range error\n",
    "\n",
    "print('*'*20)\n",
    "\n",
    "print(sea_creatures[-1])\n",
    "\n",
    "print(sea_creatures[-2])\n",
    "\n",
    "print(sea_creatures[-3])\n",
    "\n",
    "print(sea_creatures[-4])\n",
    "\n",
    "print(sea_creatures[-5])\n",
    "\n",
    "# try print(sea_creatures[-6]) it will throw out of range error\n"
   ]
  },
  {
   "cell_type": "code",
   "execution_count": 36,
   "metadata": {
    "ExecuteTime": {
     "end_time": "2018-05-23T08:13:31.049201Z",
     "start_time": "2018-05-23T08:13:31.044688Z"
    }
   },
   "outputs": [
    {
     "name": "stdout",
     "output_type": "stream",
     "text": [
      "[10, 'Hi', 20.2, True]\n"
     ]
    }
   ],
   "source": [
    "l = []\n",
    "\n",
    "l.append(10)\n",
    "\n",
    "l.append('Hi')\n",
    "\n",
    "l.append(20.20)\n",
    "\n",
    "l.append(True)\n",
    "\n",
    "print(l)\n",
    "\n",
    "'''\n",
    "This is a multi line comment demonstrated by using triple single-quote\n",
    "\n",
    "Above mentioned list 'l' is a collection of heterogeneous data types.\n",
    "'''"
   ]
  },
  {
   "cell_type": "code",
   "execution_count": 9,
   "metadata": {
    "ExecuteTime": {
     "end_time": "2018-05-23T14:32:13.289116Z",
     "start_time": "2018-05-23T14:32:13.285105Z"
    }
   },
   "outputs": [
    {
     "name": "stdout",
     "output_type": "stream",
     "text": [
      "a\n",
      "5\n"
     ]
    }
   ],
   "source": [
    "\"\"\"\n",
    "This is a multi line comment demonstrated by using triple double-quote\n",
    "\n",
    "This is an example for nested lists.\n",
    "\"\"\"\n",
    "\n",
    "nest_list = ['Happy', [2, 0, 1, 5]]\n",
    "\n",
    "print(nest_list[0][1])\n",
    "\n",
    "print(nest_list[1][3])"
   ]
  },
  {
   "cell_type": "code",
   "execution_count": 15,
   "metadata": {
    "ExecuteTime": {
     "end_time": "2018-05-23T14:34:14.069750Z",
     "start_time": "2018-05-23T14:34:14.065381Z"
    }
   },
   "outputs": [
    {
     "name": "stdout",
     "output_type": "stream",
     "text": [
      "['shark', 'cuttlefish', 'squid', 'mantisshrimp', 'anemone']\n",
      "['shark', 'octopus', 'squid', 'mantisshrimp', 'anemone']\n",
      "['shark', 'octopus', 'blobfish', 'mantisshrimp', 'anemone']\n"
     ]
    }
   ],
   "source": [
    "\"\"\"\n",
    "Because lists are mutable, below written code will\n",
    "overwrite existing list\n",
    "\n",
    "\"\"\"\n",
    "\n",
    "sea_creatures = ['shark', 'cuttlefish', 'squid', 'mantisshrimp', 'anemone']\n",
    "\n",
    "print(sea_creatures)\n",
    "\n",
    "sea_creatures[1] = 'octopus'\n",
    "\n",
    "print(sea_creatures)\n",
    "\n",
    "sea_creatures[-3] = 'blobfish'\n",
    "\n",
    "print(sea_creatures)"
   ]
  },
  {
   "cell_type": "code",
   "execution_count": 16,
   "metadata": {
    "ExecuteTime": {
     "end_time": "2018-05-23T14:35:23.128994Z",
     "start_time": "2018-05-23T14:35:23.121951Z"
    }
   },
   "outputs": [
    {
     "name": "stdout",
     "output_type": "stream",
     "text": [
      "['o', 'g', 'r']\n",
      "['p', 'r', 'o', 'g']\n",
      "['r', 'a', 'm', 'i', 'z']\n",
      "['a', 'm', 'i', 'z']\n",
      "['p', 'r', 'o', 'g', 'r', 'a', 'm', 'i', 'z']\n",
      "['a', 'm']\n",
      "['m', 'i', 'z']\n"
     ]
    }
   ],
   "source": [
    "# Below we are demonstrating the list slicing operation.\n",
    "\n",
    "my_list = ['p', 'r', 'o', 'g', 'r', 'a', 'm', 'i', 'z']\n",
    "\n",
    "print(my_list[2:5])\n",
    "\n",
    "print(my_list[:-5])\n",
    "\n",
    "print(my_list[-5:])\n",
    "\n",
    "print(my_list[5:])\n",
    "\n",
    "print(my_list[:])\n",
    "\n",
    "print(my_list[-4:-2])\n",
    "\n",
    "print(my_list[-3:])\n"
   ]
  },
  {
   "cell_type": "code",
   "execution_count": 70,
   "metadata": {
    "ExecuteTime": {
     "end_time": "2018-05-23T03:22:53.059116Z",
     "start_time": "2018-05-23T03:22:53.049688Z"
    }
   },
   "outputs": [],
   "source": [
    "# append(element)\n",
    "\n",
    "# insert(index, element) This will insert 'element' at the given 'index'\n",
    "\n",
    "# list1.extend(list2) appends list2 at the end of list1\n",
    "\n",
    "# list.index(element) \n",
    "\n",
    "# list.index(element, index) find next element starting at 'index'\n",
    "\n",
    "# list.remove(element)\n",
    "\n",
    "# list.sort() here list should contain one kind of data type\n",
    "\n",
    "# list.reverse()\n",
    "\n",
    "# list.pop(index)\n",
    "\n",
    "# list.count(element)"
   ]
  }
 ],
 "metadata": {
  "kernelspec": {
   "display_name": "Python 3",
   "language": "python",
   "name": "python3"
  },
  "language_info": {
   "codemirror_mode": {
    "name": "ipython",
    "version": 3
   },
   "file_extension": ".py",
   "mimetype": "text/x-python",
   "name": "python",
   "nbconvert_exporter": "python",
   "pygments_lexer": "ipython3",
   "version": "3.6.5"
  },
  "toc": {
   "nav_menu": {},
   "number_sections": true,
   "sideBar": true,
   "skip_h1_title": false,
   "title_cell": "Table of Contents",
   "title_sidebar": "Contents",
   "toc_cell": false,
   "toc_position": {},
   "toc_section_display": true,
   "toc_window_display": false
  },
  "varInspector": {
   "cols": {
    "lenName": 16,
    "lenType": 16,
    "lenVar": 40
   },
   "kernels_config": {
    "python": {
     "delete_cmd_postfix": "",
     "delete_cmd_prefix": "del ",
     "library": "var_list.py",
     "varRefreshCmd": "print(var_dic_list())"
    },
    "r": {
     "delete_cmd_postfix": ") ",
     "delete_cmd_prefix": "rm(",
     "library": "var_list.r",
     "varRefreshCmd": "cat(var_dic_list()) "
    }
   },
   "types_to_exclude": [
    "module",
    "function",
    "builtin_function_or_method",
    "instance",
    "_Feature"
   ],
   "window_display": false
  }
 },
 "nbformat": 4,
 "nbformat_minor": 2
}
